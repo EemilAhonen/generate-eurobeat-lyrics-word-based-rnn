{
  "cells": [
    {
      "cell_type": "code",
      "execution_count": 1,
      "id": "a5d734cd-3244-4251-8f7c-5663f3ded595",
      "metadata": {
        "id": "a5d734cd-3244-4251-8f7c-5663f3ded595"
      },
      "outputs": [],
      "source": [
        "import os\n",
        "import json\n",
        "import numpy as np\n",
        "import tensorflow as tf\n",
        "from tensorflow.keras.preprocessing.text import tokenizer_from_json\n",
        "from tensorflow.keras.preprocessing.sequence import pad_sequences\n",
        "from tensorflow.keras.models import load_model"
      ]
    },
    {
      "cell_type": "code",
      "execution_count": 2,
      "id": "b2d5f0ff-80b0-4629-8974-c0c732a102cb",
      "metadata": {
        "colab": {
          "base_uri": "https://localhost:8080/"
        },
        "id": "b2d5f0ff-80b0-4629-8974-c0c732a102cb",
        "outputId": "224dc5f9-fb35-4684-ed52-f7a0160af282"
      },
      "outputs": [
        {
          "output_type": "stream",
          "name": "stdout",
          "text": [
            "Unseen: (44895, 16) (44895,)\n"
          ]
        }
      ],
      "source": [
        "SEQUENCE_LENGTH = 16\n",
        "\n",
        "X_test_unseen = np.load(os.path.sep.join(['data', 'unseen_sequences.npy']))\n",
        "y_test_unseen = np.load(os.path.sep.join(['data', 'unseen_labels.npy']))\n",
        "X_test_eval = np.load(os.path.sep.join(['data', 'eval_sequences.npy']))\n",
        "y_test_eval = np.load(os.path.sep.join(['data', 'eval_labels.npy']))\n",
        "\n",
        "#Load the tokenizer\n",
        "with open(\"data/tokenizer.json\") as f:\n",
        "    data = json.load(f)\n",
        "    tokenizer = tokenizer_from_json(data)\n",
        "\n",
        "reverse_word_index = dict([(value, key) for key, value in tokenizer.word_index.items()])\n",
        "\n",
        "filepath = \"saved_model_cfg_8\"\n",
        "\n",
        "print(\"Unseen:\", X_test_unseen.shape, y_test_unseen.shape)"
      ]
    },
    {
      "cell_type": "code",
      "execution_count": 3,
      "id": "a1e442a0-a5f2-41f3-a96b-ba13d77cbca7",
      "metadata": {
        "id": "a1e442a0-a5f2-41f3-a96b-ba13d77cbca7"
      },
      "outputs": [],
      "source": [
        "model = load_model(filepath)"
      ]
    },
    {
      "cell_type": "markdown",
      "id": "Lw9w8BAfeqmU",
      "metadata": {
        "id": "Lw9w8BAfeqmU"
      },
      "source": [
        "## Final predictions\n",
        "Do final predictions on unseen data and compare the accuracy on evaluation data, i.e., how well the model generalizes across these splits."
      ]
    },
    {
      "cell_type": "code",
      "execution_count": 18,
      "id": "UjII8lGKe6xq",
      "metadata": {
        "colab": {
          "base_uri": "https://localhost:8080/"
        },
        "id": "UjII8lGKe6xq",
        "outputId": "59aea68f-d3e0-47d2-d021-775cd4d74fd3"
      },
      "outputs": [
        {
          "output_type": "stream",
          "name": "stdout",
          "text": [
            "1403/1403 [==============================] - 6s 5ms/step - loss: 3.7474 - accuracy: 0.3053\n",
            "Unseen accuracy: 30.53\n",
            "368/368 [==============================] - 2s 5ms/step - loss: 3.7965 - accuracy: 0.3056\n",
            "Evaluation accuracy: 30.56\n"
          ]
        }
      ],
      "source": [
        "_, accuracy_unseen = model.evaluate(X_test_unseen, y_test_unseen)\n",
        "print('Unseen accuracy: %.2f' % (accuracy_unseen*100))\n",
        "_, accuracy_eval = model.evaluate(X_test_eval, y_test_eval)\n",
        "print('Evaluation accuracy: %.2f' % (accuracy_eval*100))"
      ]
    },
    {
      "cell_type": "code",
      "execution_count": 5,
      "id": "HGk7ut1Rhnur",
      "metadata": {
        "id": "HGk7ut1Rhnur"
      },
      "outputs": [],
      "source": [
        "#Get predictions from evaluation data\n",
        "predictions = model.predict(X_test_unseen)\n",
        "\n",
        "accuracy_array = np.array([])\n",
        "\n",
        "#Add the individual prediction accuracies to a numpy array\n",
        "for i in range(0, predictions.shape[0]):\n",
        "  accuracy_array = np.append(accuracy_array, predictions[i][y_test_unseen[i]])"
      ]
    },
    {
      "cell_type": "code",
      "execution_count": 6,
      "id": "2xYw-30Pho3p",
      "metadata": {
        "id": "2xYw-30Pho3p"
      },
      "outputs": [],
      "source": [
        "#Find 10 predictions with the highest and lowest accuracies\n",
        "max_10_index = accuracy_array.argsort()[-10:][::-1]\n",
        "min_10_index = accuracy_array.argsort()[:10]\n",
        "\n",
        "max_10_sequences = X_test_unseen[max_10_index]\n",
        "max_10_labels = y_test_unseen[max_10_index]\n",
        "min_10_sequences = X_test_unseen[min_10_index]\n",
        "min_10_labels = y_test_unseen[min_10_index]"
      ]
    },
    {
      "cell_type": "code",
      "execution_count": 7,
      "id": "uwtsyvaVhp3h",
      "metadata": {
        "colab": {
          "base_uri": "https://localhost:8080/"
        },
        "id": "uwtsyvaVhp3h",
        "outputId": "e51b98c4-3b72-499b-a015-d425b56900fc"
      },
      "outputs": [
        {
          "output_type": "stream",
          "name": "stdout",
          "text": [
            "Highest accuracy predictions:\n",
            "\n",
            "Index. Sequence -> Label. Accuracy\n",
            "0. <br> like a children <br> im running out of my soul with all my best sensations ->  <br>. 0.9965533018112183\n",
            "1. this city go <br> if you want flying <br> energy is <OOV> for the new sensations ->  <br>. 0.9940819144248962\n",
            "2. i will be alone <br> in new york city <br> dead or alive breakin the ice ->  <br>. 0.9931383728981018\n",
            "3. running like a nightmare <br> lonely boy <br> your heart is full of passion <br> full ->  of. 0.9924903512001038\n",
            "4. for a lovely game <br> sweet and sensual <br> now im ready waiting for your extasy ->  <br>. 0.9921045303344727\n",
            "5. the ocean <br> deep inside your love <br> deep inside this romantic feeling of real devotion ->  <br>. 0.9903891682624817\n",
            "6. you <br> just around the corner <br> along the way i meet your love hot fire ->  <br>. 0.989725649356842\n",
            "7. the way <br> tell you something <br> im falling down from grace <br> its a kind ->  of. 0.9879541397094727\n",
            "8. till tomorrow free <br> love unforgettable <br> stop the panic <br> now im coming <br> full ->  of. 0.9878044128417969\n",
            "9. time <br> the music will be your <OOV> <br> the night is your magic burning fantasy ->  <br>. 0.9875071048736572\n"
          ]
        }
      ],
      "source": [
        "#Print the highest accuracy predictions\n",
        "print(\"Highest accuracy predictions:\\n\")\n",
        "print(\"Index. Sequence -> Label. Accuracy\")\n",
        "\n",
        "for i in range(0, 10):\n",
        "  print(f\"{i}. {' '.join([reverse_word_index[num] for num in max_10_sequences[i]])} ->  {reverse_word_index[max_10_labels[i]]}. {accuracy_array[max_10_index[i]]}\")"
      ]
    },
    {
      "cell_type": "code",
      "execution_count": 8,
      "id": "ZaY52QhShq36",
      "metadata": {
        "colab": {
          "base_uri": "https://localhost:8080/"
        },
        "id": "ZaY52QhShq36",
        "outputId": "bb0f5a6f-5558-4fad-e08d-716e28465d5b"
      },
      "outputs": [
        {
          "output_type": "stream",
          "name": "stdout",
          "text": [
            "Lowest accuracy predictions:\n",
            "\n",
            "Index. Sequence -> Label. Accuracy\n",
            "0. see youre born to be wild <br> baby try <br> usa <br> be my lady danger ->  usa. 4.4633467386444303e-13\n",
            "1. fly to you my darlin <br> let me keep my dream believe me <br> i love ->  america. 1.8869521830472413e-12\n",
            "2. <OOV> ready to believe <br> tell me that my dream can be real <br> i love ->  america. 3.1947281192018506e-12\n",
            "3. power of life <br> its the game of the time <br> for us to believe in ->  someones. 1.994679421635226e-11\n",
            "4. and me <br> forever and ever <br> forever and ever <br> is a very long time ->  pooh. 2.1991136342491835e-11\n",
            "5. meant youre ready to be tough <br> id like to play your game <br> come on ->  instead. 2.470177361268977e-11\n",
            "6. all over the line my babe <br> bad cow bad cow <br> wont you be my ->  cow. 2.537836954474848e-11\n",
            "7. <br> to feel my affection <br> i wanna come back to the <OOV> <br> sexy im ->  clever. 3.511544874323924e-11\n",
            "8. new reason to live <br> but i know that you can blow my mind <br> love ->  america. 4.6801503644777753e-11\n",
            "9. on everybody gonna kick it with your hand <br> eh <br> pistol man pistol man pistol ->  pistol. 4.746751602890953e-11\n"
          ]
        }
      ],
      "source": [
        "#Print the lowest accuracy predictions\n",
        "print(\"Lowest accuracy predictions:\\n\")\n",
        "print(\"Index. Sequence -> Label. Accuracy\")\n",
        "\n",
        "for i in range(0, 10):\n",
        "  print(f\"{i}. {' '.join([reverse_word_index[num] for num in min_10_sequences[i]])} ->  {reverse_word_index[min_10_labels[i]]}. {accuracy_array[min_10_index[i]]}\")"
      ]
    },
    {
      "cell_type": "markdown",
      "id": "f1c8b796-ef8f-4615-86d6-0233bccf4089",
      "metadata": {
        "id": "f1c8b796-ef8f-4615-86d6-0233bccf4089"
      },
      "source": [
        "### Lisätapoja"
      ]
    },
    {
      "cell_type": "code",
      "execution_count": 9,
      "id": "1bbddea6-0f2e-484c-a6d9-8ecdc92c7889",
      "metadata": {
        "id": "1bbddea6-0f2e-484c-a6d9-8ecdc92c7889"
      },
      "outputs": [],
      "source": [
        "predictions = model.predict(X_test_unseen)\n",
        "predicted_labels = np.argmax(predictions, axis=1)"
      ]
    },
    {
      "cell_type": "code",
      "execution_count": 10,
      "id": "60bb0bd8-742f-4ff7-a758-739ce013fbb3",
      "metadata": {
        "colab": {
          "base_uri": "https://localhost:8080/"
        },
        "id": "60bb0bd8-742f-4ff7-a758-739ce013fbb3",
        "outputId": "6c26101c-6fb4-497e-a19b-f56624ce8038"
      },
      "outputs": [
        {
          "output_type": "stream",
          "name": "stdout",
          "text": [
            "Highest accuracy, correct predictions:\n",
            "\n",
            "Index. Sequence -> Label. Accuracy\n",
            "17520. <br> like a children <br> im running out of my soul with all my best sensations ->  <br>. 0.9965533018112183\n",
            "40196. this city go <br> if you want flying <br> energy is <OOV> for the new sensations ->  <br>. 0.9940819144248962\n",
            "21897. i will be alone <br> in new york city <br> dead or alive breakin the ice ->  <br>. 0.9931383728981018\n",
            "11195. running like a nightmare <br> lonely boy <br> your heart is full of passion <br> full ->  of. 0.9924903512001038\n",
            "5005. for a lovely game <br> sweet and sensual <br> now im ready waiting for your extasy ->  <br>. 0.9921045303344727\n",
            "22350. the ocean <br> deep inside your love <br> deep inside this romantic feeling of real devotion ->  <br>. 0.9903891682624817\n",
            "33924. you <br> just around the corner <br> along the way i meet your love hot fire ->  <br>. 0.989725649356842\n",
            "27884. the way <br> tell you something <br> im falling down from grace <br> its a kind ->  of. 0.9879541397094727\n",
            "33403. till tomorrow free <br> love unforgettable <br> stop the panic <br> now im coming <br> full ->  of. 0.9878044128417969\n",
            "4238. time <br> the music will be your <OOV> <br> the night is your magic burning fantasy ->  <br>. 0.9875071048736572\n"
          ]
        }
      ],
      "source": [
        "correct_idx_acc = [(i, predictions[i].max(), predicted_labels[i]) for i, value in enumerate(predicted_labels == y_test_unseen) if value == True]\n",
        "correct_idx_acc_max = sorted(correct_idx_acc, key = lambda tup: tup[1], reverse=True)\n",
        "\n",
        "#Print the highest accuracy predictions (correct)\n",
        "print(\"Highest accuracy, correct predictions:\\n\")\n",
        "print(\"Index. Sequence -> Label. Accuracy\")\n",
        "\n",
        "for i, acc, label in correct_idx_acc_max[:10]:\n",
        "    print(f\"{i}. {' '.join([reverse_word_index[num] for num in X_test_unseen[i]])} ->  {reverse_word_index[y_test_unseen[i]]}. {acc}\")"
      ]
    },
    {
      "cell_type": "code",
      "execution_count": 11,
      "id": "c94651be-a11c-4549-a6e4-5c14005ccf24",
      "metadata": {
        "colab": {
          "base_uri": "https://localhost:8080/"
        },
        "id": "c94651be-a11c-4549-a6e4-5c14005ccf24",
        "outputId": "8b70a533-5cb4-4ac3-907c-480a9fada107"
      },
      "outputs": [
        {
          "output_type": "stream",
          "name": "stdout",
          "text": [
            "Highest accuracy, wrong predictions:\n",
            "\n",
            "Index. Sequence -> Label. Accuracy\n",
            "17503. my secret feeling <br> like a children <br> some little kisses of you my best desire ->  <br>. 0.9911227226257324.\n",
            "Correct label was: babe (76)\n",
            "\n",
            "18243. the <OOV> <br> then take to me <OOV> show <br> or we will be the part ->  of. 0.9890502691268921.\n",
            "Correct label was: <br> (2)\n",
            "\n",
            "16878. to the right <br> heres somebody with the track <br> to the back to the front ->  of. 0.9885883331298828.\n",
            "Correct label was: <br> (2)\n",
            "\n",
            "20786. from my weapon tonight <br> get right get right <br> pistol man pistol man pistol pistol ->  <br>. 0.9875919222831726.\n",
            "Correct label was: man (143)\n",
            "\n",
            "443. your love <br> wonderful night <br> wonderful night <br> never ending passion <br> a magic full ->  of. 0.9865700602531433.\n",
            "Correct label was: obsession (1024)\n",
            "\n",
            "10083. heart <br> my sensations reactions i need you <br> tonite <br> what the <OOV> of reaction ->  <br>. 0.9851915836334229.\n",
            "Correct label was: to (8)\n",
            "\n",
            "17531. with all my best sensations <br> like a children <br> a <OOV> <OOV> a good reaction ->  <br>. 0.9845178723335266.\n",
            "Correct label was: love (12)\n",
            "\n",
            "17245. i have no time to waste <br> now <br> baby you get me now <br> full ->  of. 0.9829046726226807.\n",
            "Correct label was: time (31)\n",
            "\n",
            "14169. is in the air i want you babe <br> cool pretender <br> love is in the ->  air. 0.9799297451972961.\n",
            "Correct label was: moonlight (453)\n",
            "\n",
            "23789. you now baby <br> just tell me how do you feel <br> never alone <br> tell ->  me. 0.9794753789901733.\n",
            "Correct label was: you (3)\n",
            "\n"
          ]
        }
      ],
      "source": [
        "wrong_idx_acc = [(i, predictions[i].max(), predicted_labels[i]) for i, value in enumerate(predicted_labels == y_test_unseen) if value == False]\n",
        "wrong_idx_acc_max = sorted(wrong_idx_acc, key = lambda tup: tup[1], reverse=True)\n",
        "\n",
        "#Print the highest accuracy predictions (wrong)\n",
        "print(\"Highest accuracy, wrong predictions:\\n\")\n",
        "print(\"Index. Sequence -> Label. Accuracy\")\n",
        "\n",
        "for i, acc, label in wrong_idx_acc_max[:10]:\n",
        "    print(f\"{i}. {' '.join([reverse_word_index[num] for num in X_test_unseen[i]])} ->  {reverse_word_index[label]}. {acc}.\\nCorrect label was: {reverse_word_index[y_test_unseen[i]]} ({y_test_unseen[i]})\\n\")"
      ]
    },
    {
      "cell_type": "code",
      "source": [
        "from collections import Counter\n",
        "#Print the most common labels in the dataset\n",
        "[(label, reverse_word_index[label], count) for label, count in Counter(y_test_unseen).most_common()[:20]]"
      ],
      "metadata": {
        "colab": {
          "base_uri": "https://localhost:8080/"
        },
        "id": "FamSeE9GqsF0",
        "outputId": "1210de5a-9cab-44fc-d7c2-d49d107d9ce5"
      },
      "id": "FamSeE9GqsF0",
      "execution_count": 12,
      "outputs": [
        {
          "output_type": "execute_result",
          "data": {
            "text/plain": [
              "[(2, '<br>', 6589),\n",
              " (3, 'you', 2055),\n",
              " (6, 'me', 1441),\n",
              " (5, 'i', 1364),\n",
              " (4, 'the', 1332),\n",
              " (7, 'my', 1037),\n",
              " (8, 'to', 935),\n",
              " (10, 'your', 853),\n",
              " (12, 'love', 805),\n",
              " (9, 'and', 760),\n",
              " (17, 'baby', 504),\n",
              " (11, 'a', 500),\n",
              " (13, 'in', 464),\n",
              " (18, 'be', 451),\n",
              " (15, 'for', 447),\n",
              " (14, 'is', 438),\n",
              " (21, 'dont', 365),\n",
              " (24, 'can', 350),\n",
              " (20, 'im', 348),\n",
              " (19, 'on', 344)]"
            ]
          },
          "metadata": {},
          "execution_count": 12
        }
      ]
    },
    {
      "cell_type": "code",
      "source": [
        "#Print the most common predictions\n",
        "[(label, reverse_word_index[label], count) for label, count in Counter(predicted_labels).most_common()[:20]]"
      ],
      "metadata": {
        "colab": {
          "base_uri": "https://localhost:8080/"
        },
        "id": "8j1AdbG8qyY1",
        "outputId": "355f6ef0-1fb3-4e5f-9891-041c070e9829"
      },
      "id": "8j1AdbG8qyY1",
      "execution_count": 13,
      "outputs": [
        {
          "output_type": "execute_result",
          "data": {
            "text/plain": [
              "[(2, '<br>', 11676),\n",
              " (5, 'i', 6407),\n",
              " (3, 'you', 3025),\n",
              " (4, 'the', 2273),\n",
              " (6, 'me', 2068),\n",
              " (18, 'be', 1323),\n",
              " (12, 'love', 1152),\n",
              " (8, 'to', 1044),\n",
              " (7, 'my', 738),\n",
              " (24, 'can', 703),\n",
              " (29, 'wanna', 700),\n",
              " (11, 'a', 631),\n",
              " (14, 'is', 538),\n",
              " (26, 'night', 476),\n",
              " (10, 'your', 469),\n",
              " (9, 'and', 431),\n",
              " (25, 'feel', 397),\n",
              " (36, 'heart', 385),\n",
              " (16, 'of', 380),\n",
              " (19, 'on', 334)]"
            ]
          },
          "metadata": {},
          "execution_count": 13
        }
      ]
    },
    {
      "cell_type": "code",
      "source": [
        "#Print the most overfitting labels (How many more were found in the predicted than the real dataset)\n",
        "[(label, reverse_word_index[label], count) for label, count in (Counter(predicted_labels) - Counter(y_test_unseen)).most_common()[:10]]"
      ],
      "metadata": {
        "colab": {
          "base_uri": "https://localhost:8080/"
        },
        "id": "mKzChE0Sq0XQ",
        "outputId": "631c98e5-df1e-4d77-c40f-161338fa39ce"
      },
      "id": "mKzChE0Sq0XQ",
      "execution_count": 14,
      "outputs": [
        {
          "output_type": "execute_result",
          "data": {
            "text/plain": [
              "[(2, '<br>', 5087),\n",
              " (5, 'i', 5043),\n",
              " (3, 'you', 970),\n",
              " (4, 'the', 941),\n",
              " (18, 'be', 872),\n",
              " (6, 'me', 627),\n",
              " (29, 'wanna', 436),\n",
              " (24, 'can', 353),\n",
              " (12, 'love', 347),\n",
              " (59, 'gonna', 197)]"
            ]
          },
          "metadata": {},
          "execution_count": 14
        }
      ]
    },
    {
      "cell_type": "code",
      "source": [
        "#Print the most underfitting labels (How many more were found in the real dataset than the predicted dataset)\n",
        "[(label, reverse_word_index[label], count) for label, count in (Counter(y_test_unseen) - Counter(predicted_labels)).most_common()[:10]]"
      ],
      "metadata": {
        "colab": {
          "base_uri": "https://localhost:8080/"
        },
        "id": "pxiPuoHsq1YY",
        "outputId": "0020a14f-7cf4-4c41-e907-e8480599d09f"
      },
      "id": "pxiPuoHsq1YY",
      "execution_count": 15,
      "outputs": [
        {
          "output_type": "execute_result",
          "data": {
            "text/plain": [
              "[(10, 'your', 384),\n",
              " (20, 'im', 336),\n",
              " (9, 'and', 329),\n",
              " (7, 'my', 299),\n",
              " (17, 'baby', 298),\n",
              " (27, 'now', 241),\n",
              " (23, 'all', 239),\n",
              " (1, '<OOV>', 236),\n",
              " (42, 'tonight', 220),\n",
              " (32, 'just', 202)]"
            ]
          },
          "metadata": {},
          "execution_count": 15
        }
      ]
    },
    {
      "cell_type": "code",
      "source": [
        "#Average length of sentence before false prediction (Length after last <br>).\n",
        "a = [item[np.where(item == 2)[0][-1]:].size for item in X_test_unseen[[i for i, _, _ in wrong_idx_acc_max[:50]]]]\n",
        "print(f\"Average length of a sentence before false prediction: {sum(a) / len(a)}\")"
      ],
      "metadata": {
        "colab": {
          "base_uri": "https://localhost:8080/"
        },
        "id": "7vQ90RMbq2Ye",
        "outputId": "aec7f145-cae2-43d4-9739-2b4cc2b2c763"
      },
      "id": "7vQ90RMbq2Ye",
      "execution_count": 16,
      "outputs": [
        {
          "output_type": "stream",
          "name": "stdout",
          "text": [
            "Average length of a sentence before false prediction: 7.02\n"
          ]
        }
      ]
    },
    {
      "cell_type": "markdown",
      "id": "4RWQfAR6eb0J",
      "metadata": {
        "id": "4RWQfAR6eb0J"
      },
      "source": [
        "## Generate lyrics using the trained model\n",
        "Generate new lyrics using the trained model.\n",
        "1. Load the saved model.\n",
        "2. Give the model seed text of at least 16 words (\\n counts as a word). Only the last 16 words affect the generation. The generator truncates the rest.\n",
        "\n",
        "`temperature` parameter controls the randomness of the generation. "
      ]
    },
    {
      "cell_type": "code",
      "execution_count": null,
      "id": "2-3raxpAecdw",
      "metadata": {
        "id": "2-3raxpAecdw"
      },
      "outputs": [],
      "source": [
        "def generate_lyrics(model, seed_text, n_words=1, temperature=1.0):\n",
        "  \"\"\"Generate lyrics using a model and seed text.\n",
        "\n",
        "  Keyword arguments:\n",
        "  model -- trained generator\n",
        "  seed_text -- sample text from which to predict the next words. At least 16 words.\n",
        "  n_words -- how many words to generate (defaults to 1)\n",
        "  temperature -- randomness of the new text (defaults to 1.0)\n",
        "  \"\"\"\n",
        "  \n",
        "  seed_text.replace(\"\\n\", \" <br> \")\n",
        "  result = []\n",
        "  for _ in range(n_words):\n",
        "    #Encode the seed_text\n",
        "    encoded = tokenizer.texts_to_sequences([seed_text])[0]\n",
        "    encoded = pad_sequences([encoded], maxlen=SEQUENCE_LENGTH, truncating='pre')\n",
        "\n",
        "    #Get the prediction vector\n",
        "    predictions = model.predict(encoded, verbose=0)[0]\n",
        "    predictions = np.asarray(predictions).astype('float64')\n",
        "\n",
        "    #Reweight the distribution\n",
        "    predictions = np.log(predictions) / temperature\n",
        "    exp_predictions = np.exp(predictions)\n",
        "    predictions = exp_predictions / np.sum(exp_predictions)\n",
        "    probabilities = np.random.multinomial(1, predictions, 1)\n",
        "\n",
        "    #Predict the next word\n",
        "    index = np.argmax(probabilities)\n",
        "\n",
        "    #Add the predicted word to the result\n",
        "    predicted_word = reverse_word_index[index]\n",
        "    seed_text += \" \" + predicted_word\n",
        "    result.append(predicted_word)\n",
        "\n",
        "  return (\" \".join(result)).replace(\" <\", \"<\").replace(\"> \", \">\").replace(\"<br>\", \"\\n\").replace(\"<OOV>\", \" ? \")"
      ]
    },
    {
      "cell_type": "code",
      "execution_count": null,
      "id": "8q42zefVefda",
      "metadata": {
        "colab": {
          "base_uri": "https://localhost:8080/"
        },
        "id": "8q42zefVefda",
        "outputId": "75578d7b-c2f4-47f6-fe9e-6b945ca10748"
      },
      "outputs": [
        {
          "name": "stdout",
          "output_type": "stream",
          "text": [
            "I found the rest of me in what I thought was fantasy\n",
            "With the last of doubt I can freely shout \n",
            "\n",
            "im gonna tell fall in love\n",
            "ready for my love\n",
            "looking time forever this time\n",
            "day by day tonight you know so long\n",
            "you choose the game of destiny\n",
            "you try to take me higher\n",
            "lonely kind of dreams and ever\n",
            "when you stay into the mirror right\n",
            "magic night i feel lonely\n",
            "this\n"
          ]
        }
      ],
      "source": [
        "test_seed = \"I found the rest of me in what I thought was fantasy\\nWith the last of doubt I can freely shout \"\n",
        "generated_text = test_seed + \"\\n\" + generate_lyrics(model, test_seed, 64, 1.0)\n",
        "print(generated_text)"
      ]
    }
  ],
  "metadata": {
    "accelerator": "GPU",
    "colab": {
      "name": "4_eurobeat_rnn_word_final_predictions_and_generator.ipynb",
      "provenance": []
    },
    "kernelspec": {
      "display_name": "Python 3 (ipykernel)",
      "language": "python",
      "name": "python3"
    },
    "language_info": {
      "codemirror_mode": {
        "name": "ipython",
        "version": 3
      },
      "file_extension": ".py",
      "mimetype": "text/x-python",
      "name": "python",
      "nbconvert_exporter": "python",
      "pygments_lexer": "ipython3",
      "version": "3.9.7"
    }
  },
  "nbformat": 4,
  "nbformat_minor": 5
}