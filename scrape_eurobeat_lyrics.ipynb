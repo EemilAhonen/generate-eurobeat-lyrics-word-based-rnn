{
 "cells": [
  {
   "cell_type": "markdown",
   "metadata": {},
   "source": [
    "# Scrape Eurobeat lyrics\n",
    "This notebook scrapes the lyrics in the lyric URLs from Eurobeat-Prime.</br>\n",
    "<a href=\"https://www.crummy.com/software/BeautifulSoup/bs4/doc/\">Read more on data scraping with beautiful soup</a>."
   ]
  },
  {
   "cell_type": "code",
   "execution_count": 8,
   "metadata": {},
   "outputs": [],
   "source": [
    "import urllib.request\n",
    "import csv\n",
    "from bs4 import BeautifulSoup"
   ]
  },
  {
   "cell_type": "markdown",
   "metadata": {},
   "source": [
    "## Parameters"
   ]
  },
  {
   "cell_type": "code",
   "execution_count": 6,
   "metadata": {},
   "outputs": [],
   "source": [
    "LYRIC_URLS_LOCATION = \"data/lyric_urls.txt\" #Text file to get the lyric URLs from\n",
    "LYRIC_DATASET_LOCATION = \"data/lyric_dataset.csv\" #CSV file to write the lyric data to\n",
    "BAD_URLS_LOCATION = \"data/bad_urls.txt\" #Text file to write the bad URLs to\n",
    "HEADER = [\"Artist\", \"Title\", \"Lyrics\", \"URL\"]\n",
    "bad_urls = []"
   ]
  },
  {
   "cell_type": "markdown",
   "metadata": {},
   "source": [
    "## Load the lyric URLs"
   ]
  },
  {
   "cell_type": "code",
   "execution_count": null,
   "metadata": {},
   "outputs": [],
   "source": [
    "lyric_urls = []\n",
    "\n",
    "with open(LYRIC_URLS_LOCATION, \"r\", encoding=\"UTF8\") as file:\n",
    "    for lyric_url in file:\n",
    "        lyric_urls.append(lyric_url)\n",
    "\n",
    "dataset_length = len(lyric_urls)\n",
    "print(f\"Amount of lyric URLs in the text file: {dataset_length}\")"
   ]
  },
  {
   "cell_type": "markdown",
   "metadata": {},
   "source": [
    "## Scrape the lyric data\n",
    "Read the lyrics from the lyric URLs and write them to the CSV file.\n",
    "Add URLs with multiple \" - \" in the title to the bad_urls list. </br>\n",
    "Data structure: </br>\n",
    "<img src=\"images/lyric_page_html.PNG\" width=\"500\">"
   ]
  },
  {
   "cell_type": "code",
   "execution_count": null,
   "metadata": {},
   "outputs": [],
   "source": [
    "index = 0 #For printing the progress\n",
    "\n",
    "with open(LYRIC_DATASET_LOCATION, \"w\", encoding=\"UTF8\", newline='') as file:\n",
    "    writer = csv.writer(file)\n",
    "\n",
    "    #Write the header\n",
    "    writer.writerow(HEADER)\n",
    "\n",
    "    #Loop through URLs\n",
    "    for url in lyric_urls:\n",
    "        index += 1\n",
    "\n",
    "        response = urllib.request.urlopen(url)\n",
    "        soup = BeautifulSoup(response, \"html.parser\",\n",
    "            from_encoding=response.info().get_param('charset'))\n",
    "\n",
    "        #Find the div with the 'mmids' class, which contains the lyrics\n",
    "        lyrics = soup.find(\"div\", {\"class\": \"mmids\"})\n",
    "\n",
    "        #Find the child 'b' element, which contains the artist and the title\n",
    "        #Split the element from ' - '\n",
    "        title_element = lyrics.findChild(\"b\" , recursive=False).string.split(\" - \")\n",
    "\n",
    "        artist, title = \"\", \"\"\n",
    "\n",
    "        #If there is more than one ' - ' in the title or the artist, the split doesn't work\n",
    "        #Add this URL to the bad_urls list\n",
    "        #Uncomment the #continue if you don't want these elements in the dataset\n",
    "        if len(title_element) > 2:\n",
    "            bad_urls.append(url)\n",
    "            #continue\n",
    "        \n",
    "        #Assume the first element is the artist and the second the title\n",
    "        #Naive approach\n",
    "        else:\n",
    "            artist, title = title_element\n",
    "\n",
    "        #Get the lyrics from the <div> object\n",
    "        #Very naive approach\n",
    "        lyrics = str(lyrics).split(\"</a><br/><br/>\", 1)[1].split(\"\\n</div>\", 1)[0].replace(\"<br/>\", \"\").replace(\"\\r\", \"\")\n",
    "\n",
    "        #Write the lyrics to the CSV file\n",
    "        writer.writerow([artist, title, lyrics, url])\n",
    "\n",
    "        #Print the progress\n",
    "        print(f\"{index}/{dataset_length}\")"
   ]
  },
  {
   "cell_type": "markdown",
   "metadata": {},
   "source": [
    "## Write the URLs with the wrong format\n",
    "You will have to manually fix these entries in the dataset if you chose to leave them in."
   ]
  },
  {
   "cell_type": "code",
   "execution_count": 14,
   "metadata": {},
   "outputs": [],
   "source": [
    "#Write the text file\n",
    "with open(BAD_URLS_LOCATION, \"w\", encoding=\"UTF8\") as file:\n",
    "    for skipped_url in bad_urls:\n",
    "        file.write(f\"{skipped_url}\\n\")"
   ]
  }
 ],
 "metadata": {
  "interpreter": {
   "hash": "3520396f9711de5bd20b084700294a4eaa128a5bab51b4818bbbcbcf95451d78"
  },
  "kernelspec": {
   "display_name": "Python 3 (ipykernel)",
   "language": "python",
   "name": "python3"
  },
  "language_info": {
   "codemirror_mode": {
    "name": "ipython",
    "version": 3
   },
   "file_extension": ".py",
   "mimetype": "text/x-python",
   "name": "python",
   "nbconvert_exporter": "python",
   "pygments_lexer": "ipython3",
   "version": "3.9.7"
  }
 },
 "nbformat": 4,
 "nbformat_minor": 4
}
