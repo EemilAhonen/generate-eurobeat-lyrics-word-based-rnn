{
 "cells": [
  {
   "cell_type": "markdown",
   "metadata": {},
   "source": [
    "# Scrape Eurobeat lyric URLs\n",
    "This notebook scrapes the lyric URLs from the Eurobeat lyric listings in Eurobeat-Prime.\n",
    "<a href=\"https://www.crummy.com/software/BeautifulSoup/bs4/doc/\">Read more on data scraping with beautiful soup</a>."
   ]
  },
  {
   "cell_type": "code",
   "execution_count": 1,
   "metadata": {},
   "outputs": [],
   "source": [
    "import urllib.request\n",
    "from bs4 import BeautifulSoup"
   ]
  },
  {
   "cell_type": "markdown",
   "metadata": {},
   "source": [
    "## Parameters"
   ]
  },
  {
   "cell_type": "code",
   "execution_count": 2,
   "metadata": {},
   "outputs": [],
   "source": [
    "LISTING_URLS_LOCATION = \"data/listing_urls.txt\" #Text file to get the lyric listing URLs from\n",
    "LYRIC_URLS_LOCATION = \"data/lyric_urls.txt\" #Text file to write the lyric URLs to\n",
    "BASE_URL = \"https://www.eurobeat-prime.com/lyrics.php\"\n",
    "lyric_urls = []"
   ]
  },
  {
   "cell_type": "markdown",
   "metadata": {},
   "source": [
    "## Data scraping\n",
    "Read the lyric listing URLs and scrape the lyric URLs.\n",
    "Finally, write the URLs to the text file. </br>\n",
    "Data structure: </br>\n",
    "<img src=\"images/lyric_listing_html.PNG\" width=\"500\">"
   ]
  },
  {
   "cell_type": "code",
   "execution_count": 3,
   "metadata": {},
   "outputs": [],
   "source": [
    "with open(LISTING_URLS_LOCATION, \"r\", encoding=\"UTF8\") as file:\n",
    "    for url in file:\n",
    "        response = urllib.request.urlopen(url)\n",
    "        soup = BeautifulSoup(response, \"html.PARSER\",\n",
    "            from_encoding=response.info().get_param('charset'))\n",
    "\n",
    "        #Naive approach\n",
    "        #Read more: https://developer.mozilla.org/en-US/docs/Web/CSS/Attribute_selectors\n",
    "        for lyric_link in soup.select(\"a[href^=\\?lyrics]\"):\n",
    "            lyric_urls.append(BASE_URL + lyric_link.get(\"href\"))"
   ]
  },
  {
   "cell_type": "code",
   "execution_count": 4,
   "metadata": {},
   "outputs": [],
   "source": [
    "#Write the text file\n",
    "with open(LYRIC_URLS_LOCATION, \"w\", encoding=\"UTF8\") as file:\n",
    "    for lyric_url in lyric_urls:\n",
    "        file.write(f\"{lyric_url}\\n\")"
   ]
  }
 ],
 "metadata": {
  "interpreter": {
   "hash": "3520396f9711de5bd20b084700294a4eaa128a5bab51b4818bbbcbcf95451d78"
  },
  "kernelspec": {
   "display_name": "Python 3.10.2 64-bit ('venv': venv)",
   "language": "python",
   "name": "python3"
  },
  "language_info": {
   "codemirror_mode": {
    "name": "ipython",
    "version": 3
   },
   "file_extension": ".py",
   "mimetype": "text/x-python",
   "name": "python",
   "nbconvert_exporter": "python",
   "pygments_lexer": "ipython3",
   "version": "3.10.2"
  },
  "orig_nbformat": 4
 },
 "nbformat": 4,
 "nbformat_minor": 2
}
